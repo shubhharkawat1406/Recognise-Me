{
 "cells": [
  {
   "cell_type": "code",
   "execution_count": 1,
   "id": "587eab46",
   "metadata": {},
   "outputs": [],
   "source": [
    "import cv2\n",
    "import face_recognition as fr"
   ]
  },
  {
   "cell_type": "code",
   "execution_count": 2,
   "id": "0c73861d",
   "metadata": {},
   "outputs": [],
   "source": [
    "me_image = fr.load_image_file('me.jpeg')\n",
    "me_face_encodings = fr.face_encodings(me_image)[0]"
   ]
  },
  {
   "cell_type": "code",
   "execution_count": 3,
   "id": "d4e25e12",
   "metadata": {},
   "outputs": [],
   "source": [
    "mom_image = fr.load_image_file('mom.jpeg')\n",
    "mom_face_encodings = fr.face_encodings(mom_image)[0]"
   ]
  },
  {
   "cell_type": "code",
   "execution_count": 4,
   "id": "bd62d991",
   "metadata": {},
   "outputs": [],
   "source": [
    "known_face_encodings = [me_face_encodings, mom_face_encodings]\n",
    "known_face_names = [\"Me\", \"Mom\"]"
   ]
  },
  {
   "cell_type": "code",
   "execution_count": null,
   "id": "17f14c04",
   "metadata": {},
   "outputs": [],
   "source": []
  },
  {
   "cell_type": "code",
   "execution_count": null,
   "id": "a748dfd6",
   "metadata": {},
   "outputs": [],
   "source": []
  },
  {
   "cell_type": "code",
   "execution_count": 10,
   "id": "678a02d8",
   "metadata": {},
   "outputs": [],
   "source": [
    "webcam_video_cam = cv2.VideoCapture(0)\n",
    "# Loop through every frame in the video\n",
    "while True:\n",
    "    success, img = webcam_video_cam.read()\n",
    "    img = cv2.flip(img, 1)\n",
    "    # Resizing to 1/4th of current image size\n",
    "    img_small = cv2.resize(img, (0,0), fx=0.25, fy=0.25)\n",
    "    \n",
    "    all_face_locations = fr.face_locations(img_small, number_of_times_to_upsample=1, model='hog')\n",
    "    all_face_encodings = fr.face_encodings(img_small, all_face_locations)\n",
    "    all_face_names   = []  \n",
    "   \n",
    "    for current_face_locations,current_face_encodings in zip(all_face_locations,all_face_encodings):\n",
    "        top_pos, right_pos, bottom_pos, left_pos = current_face_locations\n",
    "        all_matches = fr.compare_faces(known_face_encodings,current_face_encodings)\n",
    "        top_pos, right_pos, bottom_pos, left_pos = 4*top_pos, 4*right_pos, 4*bottom_pos, 4*left_pos\n",
    "        \n",
    "        name_of_person = \"\"\n",
    "    \n",
    "        if True in all_matches:\n",
    "            first_match_index = all_matches.index(True)\n",
    "            name_of_person = known_face_names[first_match_index]\n",
    "\n",
    "            font = cv2.FONT_HERSHEY_DUPLEX\n",
    "            cv2.putText(img, name_of_person, (left_pos+5,bottom_pos-10), font, 2,(255,255,0), 1)       \n",
    "            cv2.rectangle(img, (left_pos,top_pos), (right_pos,bottom_pos), (255,255,0), 2)\n",
    "    cv2.imshow(\"Face Detection\", img)\n",
    "        \n",
    "    if cv2.waitKey(1) & 0xFF == ord('q'):\n",
    "        break\n",
    "            \n",
    "webcam_video_cam.release()\n",
    "cv2.destroyAllWindows()"
   ]
  },
  {
   "cell_type": "code",
   "execution_count": 6,
   "id": "b4aaecfc",
   "metadata": {},
   "outputs": [],
   "source": [
    "webcam_video_cam.release()\n",
    "cv2.destroyAllWindows()"
   ]
  },
  {
   "cell_type": "code",
   "execution_count": null,
   "id": "b8fb60ab",
   "metadata": {},
   "outputs": [],
   "source": []
  },
  {
   "cell_type": "code",
   "execution_count": null,
   "id": "6b1c9fb8",
   "metadata": {},
   "outputs": [],
   "source": []
  },
  {
   "cell_type": "code",
   "execution_count": null,
   "id": "f38cb766",
   "metadata": {},
   "outputs": [],
   "source": []
  },
  {
   "cell_type": "code",
   "execution_count": null,
   "id": "1c470ea7",
   "metadata": {},
   "outputs": [],
   "source": []
  },
  {
   "cell_type": "code",
   "execution_count": null,
   "id": "4b706b70",
   "metadata": {},
   "outputs": [],
   "source": []
  },
  {
   "cell_type": "code",
   "execution_count": null,
   "id": "fab0616c",
   "metadata": {},
   "outputs": [],
   "source": []
  }
 ],
 "metadata": {
  "kernelspec": {
   "display_name": "Python 3",
   "language": "python",
   "name": "python3"
  },
  "language_info": {
   "codemirror_mode": {
    "name": "ipython",
    "version": 3
   },
   "file_extension": ".py",
   "mimetype": "text/x-python",
   "name": "python",
   "nbconvert_exporter": "python",
   "pygments_lexer": "ipython3",
   "version": "3.8.8"
  }
 },
 "nbformat": 4,
 "nbformat_minor": 5
}
